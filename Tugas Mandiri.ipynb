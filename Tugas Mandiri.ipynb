{
 "cells": [
  {
   "cell_type": "code",
   "execution_count": 6,
   "metadata": {},
   "outputs": [
    {
     "name": "stdout",
     "output_type": "stream",
     "text": [
      "Bilangan prima terdekat < 12 adalah 11\n"
     ]
    }
   ],
   "source": [
    "def det_prima(num):\n",
    "    if num < 2:\n",
    "        return False\n",
    "    for i in range(2, int(num ** 0.5) + 1):\n",
    "        if num % i == 0:\n",
    "            return False\n",
    "    return True\n",
    "\n",
    "def cari_prima(num):\n",
    "    for i in range(num - 1, 1, -1):\n",
    "        if det_prima(i):\n",
    "            return i\n",
    "    return None\n",
    "\n",
    "n = int(input(\"Masukkan bilangan n: \"))\n",
    "prima_terdekat = cari_prima(n)\n",
    "if prima_terdekat:\n",
    "    print(f\"Bilangan prima terdekat < {n} adalah {prima_terdekat}\")\n",
    "else:\n",
    "    print(f\"Tidak ditemukan bilangan prima terdekat < {n}\")\n"
   ]
  },
  {
   "cell_type": "code",
   "execution_count": 7,
   "metadata": {},
   "outputs": [
    {
     "name": "stdout",
     "output_type": "stream",
     "text": [
      "720 6 5 4 3 2 1 \n",
      "120 5 4 3 2 1 \n",
      "24 4 3 2 1 \n",
      "6 3 2 1 \n",
      "2 2 1 \n",
      "1 1 \n"
     ]
    }
   ],
   "source": [
    "def deret(n):\n",
    "    for i in range(n, 0, -1):\n",
    "        print(str(faktorial(i)) + \" \", end=\"\")\n",
    "        for j in range(i, 0, -1):\n",
    "            print(str(j) + \" \", end=\"\")\n",
    "        print()\n",
    "\n",
    "def faktorial(num):\n",
    "    if num == 1 or num == 0:\n",
    "        return 1\n",
    "    return num * faktorial(num - 1)\n",
    "\n",
    "n = int(input(\"Masukkan jumlah baris pattern: \"))\n",
    "deret(n)\n"
   ]
  },
  {
   "cell_type": "code",
   "execution_count": 8,
   "metadata": {},
   "outputs": [
    {
     "name": "stdout",
     "output_type": "stream",
     "text": [
      "1 2 3 4 \n",
      "5 6 7 8 \n",
      "9 10 11 12 \n",
      "13 14 15 16 \n",
      "17 18 19 20 \n"
     ]
    }
   ],
   "source": [
    "tinggi = int(input(\"tinggi = \"))\n",
    "lebar = int(input(\"lebar = \"))\n",
    "angka = 1\n",
    "for i in range(tinggi):\n",
    "    for j in range(lebar):\n",
    "        print(angka, end=\" \")\n",
    "        angka += 1\n",
    "    print()"
   ]
  }
 ],
 "metadata": {
  "kernelspec": {
   "display_name": "Python 3",
   "language": "python",
   "name": "python3"
  },
  "language_info": {
   "codemirror_mode": {
    "name": "ipython",
    "version": 3
   },
   "file_extension": ".py",
   "mimetype": "text/x-python",
   "name": "python",
   "nbconvert_exporter": "python",
   "pygments_lexer": "ipython3",
   "version": "3.12.2"
  }
 },
 "nbformat": 4,
 "nbformat_minor": 2
}
